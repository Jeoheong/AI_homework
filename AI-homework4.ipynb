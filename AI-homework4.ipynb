{
 "cells": [
  {
   "cell_type": "markdown",
   "metadata": {},
   "source": [
    "# T1\n",
    "1. False\n",
    "2. True\n",
    "3. True\n",
    "4. True"
   ]
  },
  {
   "cell_type": "markdown",
   "metadata": {},
   "source": [
    "# T2\n",
    "1. tautology\n",
    "2. contradiction\n",
    "3. contradiction"
   ]
  },
  {
   "cell_type": "markdown",
   "metadata": {},
   "source": [
    "# T3\n",
    "3 and 5 are correct\n",
    "\n",
    "1 2 and 4 are not correct"
   ]
  },
  {
   "cell_type": "markdown",
   "metadata": {},
   "source": [
    "# T4\n",
    "1. P∧(Q⇒R)⇒S\n",
    "2. P∧(￢Q∨R)⇒S\n",
    "3. ￢(P∧(￢Q∨R))∨S\n",
    "4. (￢P∨￢(￢Q∧R))∨S\n",
    "5. (￢P∨(￢￢Q∨￢R))∨S\n",
    "6. (￢P∨(Q∨￢R))∨S"
   ]
  },
  {
   "cell_type": "code",
   "execution_count": null,
   "metadata": {},
   "outputs": [],
   "source": []
  }
 ],
 "metadata": {
  "kernelspec": {
   "display_name": "Python 3",
   "language": "python",
   "name": "python3"
  },
  "language_info": {
   "codemirror_mode": {
    "name": "ipython",
    "version": 3
   },
   "file_extension": ".py",
   "mimetype": "text/x-python",
   "name": "python",
   "nbconvert_exporter": "python",
   "pygments_lexer": "ipython3",
   "version": "3.6.5"
  }
 },
 "nbformat": 4,
 "nbformat_minor": 2
}
