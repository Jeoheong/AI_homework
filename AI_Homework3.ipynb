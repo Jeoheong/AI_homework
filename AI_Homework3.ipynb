{
 "cells": [
  {
   "cell_type": "markdown",
   "metadata": {},
   "source": [
    "# T1\n",
    "a: True. The second player will paly optimally, and so is perfectly predictable up to ties. Knowing which of two equally good moves the opponent will make does not change the value of the game to the first player.\n",
    "\n",
    "b: False. In a partially observable game, knowing the second player additional information about the game state that would otherwise be available only to the second player.\n",
    "\n",
    "c: False. Background is a game of chance, and the opponent may consistently roll much better dice. The correct statement is that the expected winnings are optimal."
   ]
  },
  {
   "cell_type": "markdown",
   "metadata": {},
   "source": [
    "# T2\n",
    "Constraint: A constraint is a restriction on the possible values of two or more variables.\n",
    "\n",
    "Bachtracking search: Backtracking search is a kind of depth-first search (DFS). For a centain search tree (search tree is the role of recording path and state judgement), backtracking and DFS, the main difference is that backtracking method is not in the solution process. The complete tree structure is preserved, while the depth-first search records the complete search tree.\n",
    "\n",
    "Arc consistency: A directed arc from variable A to variable B in a CSp is arc consistent if, for every value in the current domain of A, there is some consistent value of B.\n",
    "\n",
    "Backjumping: Backjunping is a way of making backtracking search more efficient, by jumping back more than one level when a dead end is reached.\n",
    "\n",
    "Min-conflicts is a heuristic for use with local search on CSP problems. The heuristic says that, when given a variable to modify, choose the value that conflicts with the fewest number of other variables.\n",
    "\n",
    "Cycle cutset: A cycle cutset is a set of variables which when removed from the constraint graph make it acyclic (i.e., tree). When the variables of a cycle cutset are instantiated the remember of the CSP can be solved in linear time."
   ]
  },
  {
   "cell_type": "markdown",
   "metadata": {},
   "source": [
    "# T3\n",
    "The most constrained variable makes sense because it chooses a variable that is (all other things being equal) likely to cause a failure, and it is more efficient to fall as early as possible (thereby pruning large parts of the research space). The least constraining value heuristic makes sense because it allows the most chances for future assignments to avoid conflict."
   ]
  },
  {
   "cell_type": "markdown",
   "metadata": {},
   "source": [
    "# T4\n",
    "This procedure will give incorrect results. Mathematically, the procedure amounts to assuming that averaging commutes with min and max, which is does not. Intuitively, the choices made by each player in the deterministic trees are based on full knowledge of future dice rolls, and bear no necessary relationship to the moves made without such knowledge."
   ]
  },
  {
   "cell_type": "markdown",
   "metadata": {},
   "source": [
    "# T5\n",
    "With the different purposes of A and B, after A takes out one plate, B must takes two least banknotes, so finally A will select bigger one from these two banknotes. Therefore, A just can get the second largest banknotes, so A should chose plate A at fisrt, then A can get the largest banknote."
   ]
  },
  {
   "cell_type": "code",
   "execution_count": 1,
   "metadata": {},
   "outputs": [
    {
     "name": "stdout",
     "output_type": "stream",
     "text": [
      "Your number is too small,  \n",
      "Your number is too large, \n",
      "Bingo! you got the right number!!\n"
     ]
    }
   ],
   "source": [
    "# P1\n",
    "import random\n",
    "number = random.choice(range(1, 11))\n",
    "num = int(input(\"please enter a number: \"))\n",
    "a = 2\n",
    "while a > 1:\n",
    "    if num == number:\n",
    "        print (\"Bingo! you got the right number!!\")\n",
    "        break\n",
    "    elif num <= number:\n",
    "        print (\"Your number is too small,  \")\n",
    "        num = int(input(\"please enter again: \"))\n",
    "    elif num >= number:\n",
    "        print (\"Your number is too large, \")\n",
    "        num = int(input(\"please enter again: \"))"
   ]
  },
  {
   "cell_type": "code",
   "execution_count": 2,
   "metadata": {},
   "outputs": [
    {
     "name": "stdout",
     "output_type": "stream",
     "text": [
      "There are 3 numbers, please guess what it is.\n",
      "The clue I give is:\n",
      "When I say:                   It means:\n",
      "Error                         The 3 numbers are not in the mystical numbers\n",
      "Only the number is correct    the number is right, but the position is wrong\n",
      "Absolutely right              numbers and position are both right\n",
      "Let's start, you have 10 chance to guess it.\n",
      "This is the 1 time: \n",
      "['Error', 'Only the number is correct', 'Error']\n",
      "This is the 2 time: \n",
      "['Only the number is correct', 'Only the number is correct', 'Error']\n",
      "This is the 3 time: \n",
      "Congratulations\n"
     ]
    }
   ],
   "source": [
    "# P2\n",
    "import random\n",
    "numbers = [random.choice(range(1,10)), random.choice(range(1,10)), random.choice(range(1,10))]\n",
    "print (\"There are 3 numbers, please guess what it is.\")\n",
    "print (\"The clue I give is:\")\n",
    "#format = ''\n",
    "print ('%-30s%-s' % ('When I say:','It means:'))\n",
    "print ('%-30s%-s' % ('Error', 'The 3 numbers are not in the mystical numbers'))\n",
    "print ('%-30s%-s' % ('Only the number is correct', 'the number is right, but the position is wrong'))\n",
    "print ('%-30s%-s' % ('Absolutely right', 'numbers and position are both right'))\n",
    "print ('Let\\'s start, you have 10 chance to guess it.')\n",
    "chance = 1\n",
    "result = []\n",
    "a = 'Error'\n",
    "b = 'Only the number is correct'\n",
    "c = 'Absolutely right'\n",
    "#print (numbers)\n",
    "while chance < 11:\n",
    "    print (\"This is the %d time: \" % chance)\n",
    "    num = input(\"Enter 3 numbers in range 1-9:\" )\n",
    "    for i in range(3):\n",
    "        if num[i] == str(numbers[i]):\n",
    "            result.append(c)\n",
    "        elif int(num[i]) in numbers:\n",
    "            result.append(b)\n",
    "        else:\n",
    "            result.append(a)\n",
    "    if result[0] == c and result[1] == c and result[2] == c:\n",
    "        print (\"Congratulations\")\n",
    "        break\n",
    "    if i == 10:\n",
    "        print('Sorry, you have failed this game...')\n",
    "    else:\n",
    "        print (result)\n",
    "    chance = chance+1\n",
    "    result.clear()\n",
    "\n"
   ]
  },
  {
   "cell_type": "code",
   "execution_count": 3,
   "metadata": {},
   "outputs": [
    {
     "ename": "ModuleNotFoundError",
     "evalue": "No module named 'Tkinter'",
     "output_type": "error",
     "traceback": [
      "\u001b[1;31m---------------------------------------------------------------------------\u001b[0m",
      "\u001b[1;31mModuleNotFoundError\u001b[0m                       Traceback (most recent call last)",
      "\u001b[1;32m<ipython-input-3-f9167ec719dd>\u001b[0m in \u001b[0;36m<module>\u001b[1;34m()\u001b[0m\n\u001b[0;32m      1\u001b[0m \u001b[1;31m# P3\u001b[0m\u001b[1;33m\u001b[0m\u001b[1;33m\u001b[0m\u001b[0m\n\u001b[1;32m----> 2\u001b[1;33m \u001b[1;32mfrom\u001b[0m \u001b[0mTkinter\u001b[0m \u001b[1;32mimport\u001b[0m \u001b[1;33m*\u001b[0m\u001b[1;33m\u001b[0m\u001b[0m\n\u001b[0m\u001b[0;32m      3\u001b[0m \u001b[1;32mdef\u001b[0m \u001b[0mhello\u001b[0m\u001b[1;33m(\u001b[0m\u001b[1;33m)\u001b[0m\u001b[1;33m:\u001b[0m \u001b[0mprint\u001b[0m \u001b[1;33m(\u001b[0m\u001b[1;34m'Hello, world'\u001b[0m\u001b[1;33m)\u001b[0m\u001b[1;33m\u001b[0m\u001b[0m\n\u001b[0;32m      4\u001b[0m \u001b[0mwin\u001b[0m \u001b[1;33m=\u001b[0m \u001b[0mTk\u001b[0m\u001b[1;33m(\u001b[0m\u001b[1;33m)\u001b[0m\u001b[1;33m\u001b[0m\u001b[0m\n\u001b[0;32m      5\u001b[0m \u001b[0mwin\u001b[0m\u001b[1;33m.\u001b[0m\u001b[0mtitle\u001b[0m\u001b[1;33m(\u001b[0m\u001b[1;34m'Hello, Tkinter!'\u001b[0m\u001b[1;33m)\u001b[0m\u001b[1;33m\u001b[0m\u001b[0m\n",
      "\u001b[1;31mModuleNotFoundError\u001b[0m: No module named 'Tkinter'"
     ]
    }
   ],
   "source": [
    "# P3\n",
    "from Tkinter import *\n",
    "def hello(): print ('Hello, world')\n",
    "win = Tk()\n",
    "win.title('Hello, Tkinter!')\n",
    "win.geometry('200x100')\n",
    "\n",
    "btn = Button(win, text='Hello', command=hello)\n",
    "btn.pack(expand=YES, fill=BOTH)\n",
    "\n",
    "mainloop()"
   ]
  },
  {
   "cell_type": "code",
   "execution_count": null,
   "metadata": {},
   "outputs": [],
   "source": []
  }
 ],
 "metadata": {
  "kernelspec": {
   "display_name": "Python 3",
   "language": "python",
   "name": "python3"
  },
  "language_info": {
   "codemirror_mode": {
    "name": "ipython",
    "version": 3
   },
   "file_extension": ".py",
   "mimetype": "text/x-python",
   "name": "python",
   "nbconvert_exporter": "python",
   "pygments_lexer": "ipython3",
   "version": "3.6.5"
  }
 },
 "nbformat": 4,
 "nbformat_minor": 2
}
