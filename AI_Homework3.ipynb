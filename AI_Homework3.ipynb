{
 "cells": [
  {
   "cell_type": "markdown",
   "metadata": {},
   "source": [
    "# T1\n",
    "a: True. The second player will paly optimally, and so is perfectly predictable up to ties. Knowing which of two equally good moves the opponent will make does not change the value of the game to the first player.\n",
    "\n",
    "b: False. In a partially observable game, knowing the second player additional information about the game state that would otherwise be available only to the second player.\n",
    "\n",
    "c: False. Background is a game of chance, and the opponent may consistently roll much better dice. The correct statement is that the expected winnings are optimal."
   ]
  },
  {
   "cell_type": "markdown",
   "metadata": {},
   "source": [
    "# T2\n",
    "Constraint: A constraint is a restriction on the possible values of two or more variables.\n",
    "\n",
    "Bachtracking search: Backtracking search is a kind of depth-first search (DFS). For a centain search tree (search tree is the role of recording path and state judgement), backtracking and DFS, the main difference is that backtracking method is not in the solution process. The complete tree structure is preserved, while the depth-first search records the complete search tree.\n",
    "\n",
    "Arc consistency: A directed arc from variable A to variable B in a CSp is arc consistent if, for every value in the current domain of A, there is some consistent value of B.\n",
    "\n",
    "Backjumping: Backjunping is a way of making backtracking search more efficient, by jumping back more than one level when a dead end is reached.\n",
    "\n",
    "Min-conflicts is a heuristic for use with local search on CSP problems. The heuristic says that, when given a variable to modify, choose the value that conflicts with the fewest number of other variables.\n",
    "\n",
    "Cycle cutset: A cycle cutset is a set of variables which when removed from the constraint graph make it acyclic (i.e., tree). When the variables of a cycle cutset are instantiated the remember of the CSP can be solved in linear time."
   ]
  },
  {
   "cell_type": "markdown",
   "metadata": {},
   "source": [
    "# T3\n",
    "The most constrained variable makes sense because it chooses a variable that is (all other things being equal) likely to cause a failure, and it is more efficient to fall as early as possible (thereby pruning large parts of the research space). The least constraining value heuristic makes sense because it allows the most chances for future assignments to avoid conflict."
   ]
  },
  {
   "cell_type": "markdown",
   "metadata": {},
   "source": [
    "# T4\n",
    "This procedure will give incorrect results. Mathematically, the procedure amounts to assuming that averaging commutes with min and max, which is does not. Intuitively, the choices made by each player in the deterministic trees are based on full knowledge of future dice rolls, and bear no necessary relationship to the moves made without such knowledge."
   ]
  },
  {
   "cell_type": "markdown",
   "metadata": {},
   "source": [
    "# T5\n",
    "With the different purposes of A and B, after A takes out one plate, B must takes two least banknotes, so finally A will select bigger one from these two banknotes. Therefore, A just can get the second largest banknotes, so A should chose plate A at fisrt, then A can get the largest banknote."
   ]
  },
  {
   "cell_type": "code",
   "execution_count": 4,
   "metadata": {},
   "outputs": [
    {
     "name": "stdout",
     "output_type": "stream",
     "text": [
      "Bingo! you got the right number!!\n"
     ]
    }
   ],
   "source": [
    "# P1\n",
    "import random\n",
    "number = random.choice(range(1, 11))\n",
    "num = int(input(\"please enter a number: \"))\n",
    "a = 2\n",
    "while a > 1:\n",
    "    if num == number:\n",
    "        print (\"Bingo! you got the right number!!\")\n",
    "        break\n",
    "    elif num <= number:\n",
    "        print (\"Your number is too small,  \")\n",
    "        num = int(input(\"please enter again: \"))\n",
    "    elif num >= number:\n",
    "        print (\"Your number is too large, \")\n",
    "        num = int(input(\"please enter again: \"))"
   ]
  },
  {
   "cell_type": "code",
   "execution_count": 2,
   "metadata": {},
   "outputs": [
    {
     "name": "stdout",
     "output_type": "stream",
     "text": [
      "There are 3 numbers, please guess what it is.\n",
      "The clue I give is:\n",
      "When I say:                   It means:\n",
      "Error                         The 3 numbers are not in the mystical numbers\n",
      "Only the number is correct    the number is right, but the position is wrong\n",
      "Absolutely right              numbers and position are both right\n",
      "Let's start, you have 10 chance to guess it.\n",
      "This is the 1 time: \n",
      "['Error', 'Only the number is correct', 'Error']\n",
      "This is the 2 time: \n",
      "['Only the number is correct', 'Only the number is correct', 'Error']\n",
      "This is the 3 time: \n",
      "Congratulations\n"
     ]
    }
   ],
   "source": [
    "# P2\n",
    "import random\n",
    "numbers = [random.choice(range(1,10)), random.choice(range(1,10)), random.choice(range(1,10))]\n",
    "print (\"There are 3 numbers, please guess what it is.\")\n",
    "print (\"The clue I give is:\")\n",
    "#format = ''\n",
    "print ('%-30s%-s' % ('When I say:','It means:'))\n",
    "print ('%-30s%-s' % ('Error', 'The 3 numbers are not in the mystical numbers'))\n",
    "print ('%-30s%-s' % ('Only the number is correct', 'the number is right, but the position is wrong'))\n",
    "print ('%-30s%-s' % ('Absolutely right', 'numbers and position are both right'))\n",
    "print ('Let\\'s start, you have 10 chance to guess it.')\n",
    "chance = 1\n",
    "result = []\n",
    "a = 'Error'\n",
    "b = 'Only the number is correct'\n",
    "c = 'Absolutely right'\n",
    "#print (numbers)\n",
    "while chance < 11:\n",
    "    print (\"This is the %d time: \" % chance)\n",
    "    num = input(\"Enter 3 numbers in range 1-9:\" )\n",
    "    for i in range(3):\n",
    "        if num[i] == str(numbers[i]):\n",
    "            result.append(c)\n",
    "        elif int(num[i]) in numbers:\n",
    "            result.append(b)\n",
    "        else:\n",
    "            result.append(a)\n",
    "    if result[0] == c and result[1] == c and result[2] == c:\n",
    "        print (\"Congratulations\")\n",
    "        break\n",
    "    if i == 10:\n",
    "        print('Sorry, you have failed this game...')\n",
    "    else:\n",
    "        print (result)\n",
    "    chance = chance+1\n",
    "    result.clear()\n",
    "\n"
   ]
  },
  {
   "cell_type": "code",
   "execution_count": 1,
   "metadata": {},
   "outputs": [
    {
     "data": {
      "text/plain": [
       "0"
      ]
     },
     "execution_count": 1,
     "metadata": {},
     "output_type": "execute_result"
    }
   ],
   "source": [
    "# P3\n",
    "import wx\n",
    "app = wx.App(False)\n",
    "frame = wx.Frame(None, wx.ID_ANY, \"tk\")\n",
    "frame.Show(True)\n",
    "app.MainLoop()"
   ]
  },
  {
   "cell_type": "code",
   "execution_count": 3,
   "metadata": {},
   "outputs": [
    {
     "ename": "PyNoAppError",
     "evalue": "The wx.App object must be created first!",
     "output_type": "error",
     "traceback": [
      "\u001b[1;31m---------------------------------------------------------------------------\u001b[0m",
      "\u001b[1;31mPyNoAppError\u001b[0m                              Traceback (most recent call last)",
      "\u001b[1;32m<ipython-input-3-4d269f063a09>\u001b[0m in \u001b[0;36m<module>\u001b[1;34m()\u001b[0m\n\u001b[0;32m     73\u001b[0m \u001b[1;33m\u001b[0m\u001b[0m\n\u001b[0;32m     74\u001b[0m     \u001b[0mapp\u001b[0m \u001b[1;33m=\u001b[0m \u001b[0mwx\u001b[0m\u001b[1;33m.\u001b[0m\u001b[0mApp\u001b[0m\u001b[1;33m(\u001b[0m\u001b[1;33m)\u001b[0m\u001b[1;33m\u001b[0m\u001b[0m\n\u001b[1;32m---> 75\u001b[1;33m     \u001b[0mCalcFrame\u001b[0m\u001b[1;33m(\u001b[0m\u001b[0mtitle\u001b[0m\u001b[1;33m=\u001b[0m\u001b[1;34m'Calculator'\u001b[0m\u001b[1;33m)\u001b[0m\u001b[1;33m\u001b[0m\u001b[0m\n\u001b[0m\u001b[0;32m     76\u001b[0m     \u001b[0mapp\u001b[0m\u001b[1;33m.\u001b[0m\u001b[0mMainLoop\u001b[0m\u001b[1;33m(\u001b[0m\u001b[1;33m)\u001b[0m\u001b[1;33m\u001b[0m\u001b[0m\n",
      "\u001b[1;32m<ipython-input-3-4d269f063a09>\u001b[0m in \u001b[0;36m__init__\u001b[1;34m(self, title)\u001b[0m\n\u001b[0;32m      7\u001b[0m \u001b[1;33m\u001b[0m\u001b[0m\n\u001b[0;32m      8\u001b[0m     \u001b[1;32mdef\u001b[0m \u001b[0m__init__\u001b[0m\u001b[1;33m(\u001b[0m\u001b[0mself\u001b[0m\u001b[1;33m,\u001b[0m\u001b[0mtitle\u001b[0m\u001b[1;33m)\u001b[0m\u001b[1;33m:\u001b[0m\u001b[1;33m\u001b[0m\u001b[0m\n\u001b[1;32m----> 9\u001b[1;33m         \u001b[0msuper\u001b[0m\u001b[1;33m(\u001b[0m\u001b[0mCalcFrame\u001b[0m\u001b[1;33m,\u001b[0m \u001b[0mself\u001b[0m\u001b[1;33m)\u001b[0m\u001b[1;33m.\u001b[0m\u001b[0m__init__\u001b[0m\u001b[1;33m(\u001b[0m\u001b[1;32mNone\u001b[0m\u001b[1;33m,\u001b[0m \u001b[0mtitle\u001b[0m \u001b[1;33m=\u001b[0m \u001b[0mtitle\u001b[0m\u001b[1;33m,\u001b[0m \u001b[0msize\u001b[0m \u001b[1;33m=\u001b[0m \u001b[1;33m(\u001b[0m\u001b[1;36m300\u001b[0m\u001b[1;33m,\u001b[0m \u001b[1;36m250\u001b[0m\u001b[1;33m)\u001b[0m\u001b[1;33m)\u001b[0m\u001b[1;33m\u001b[0m\u001b[0m\n\u001b[0m\u001b[0;32m     10\u001b[0m         \u001b[0mself\u001b[0m\u001b[1;33m.\u001b[0m\u001b[0mInitUI\u001b[0m\u001b[1;33m(\u001b[0m\u001b[1;33m)\u001b[0m\u001b[1;33m\u001b[0m\u001b[0m\n\u001b[0;32m     11\u001b[0m         \u001b[0mself\u001b[0m\u001b[1;33m.\u001b[0m\u001b[0mCentre\u001b[0m\u001b[1;33m(\u001b[0m\u001b[1;33m)\u001b[0m\u001b[1;33m\u001b[0m\u001b[0m\n",
      "\u001b[1;31mPyNoAppError\u001b[0m: The wx.App object must be created first!"
     ]
    }
   ],
   "source": [
    "# P4\n",
    "#coding=utf-8\n",
    "import math\n",
    "import wx\n",
    "\n",
    "class CalcFrame(wx.Frame):\n",
    "\n",
    "    def __init__(self,title):\n",
    "        super(CalcFrame, self).__init__(None, title = title, size = (300, 250))\n",
    "        self.InitUI()\n",
    "        self.Centre()\n",
    "        self.Show()\n",
    "\n",
    "    def InitUI(self):\n",
    "        vbox = wx.BoxSizer(wx.VERTICAL)\n",
    "        self.textprint = wx.TextCtrl(self, -1,'', style=wx.TE_RIGHT)\n",
    "        self.equation = \"\"\n",
    "\n",
    "        vbox.Add(self.textprint, flag=wx.EXPAND|wx.TOP|wx.BOTTOM, border=4)\n",
    "        gridBox = wx.GridSizer(5, 4, 5, 5)##行数，列数，垂直间隔，水平间隔\n",
    "        labels=['AC','DEL','PI','CLOSE','7','8','9','/','4','5','6','*','1','2','3','-','0','.','=','+']\n",
    "        for label in labels:\n",
    "            buttonItem = wx.Button(self,label = label)\n",
    "            self.createHandler(buttonItem,label)\n",
    "            gridBox.Add(buttonItem, 1, wx.EXPAND)\n",
    "\n",
    "        vbox.Add(gridBox, proportion=1, flag=wx.EXPAND)\n",
    "        self.SetSizer(vbox)\n",
    "\n",
    "    def createHandler(self,button,labels):\n",
    "        item = ['del','AC','=','CLOSE']\n",
    "        if labels not in item:\n",
    "            self.Bind(wx.EVT_BUTTON,self.OnAppend,button)\n",
    "        elif labels == 'DEL':\n",
    "            self.Bind(wx.EVT_BUTTON,self.OnDel,button)\n",
    "        elif labels == 'AC':\n",
    "            self.Bind(wx.EVT_BUTTON,self.OnAc,button)\n",
    "        elif labels == '=':\n",
    "            self.Bind(wx.EVT_BUTTON,self.OnTarget,button)\n",
    "        elif labels == 'CLOSE':\n",
    "            self.Bind(wx.EVT_BUTTON,self.OnExit,button)\n",
    "\n",
    "    def OnAppend(self,event):\n",
    "        eventbutton = event.GetEventObject()\n",
    "        label = eventbutton.GetLabel()\n",
    "        self.equation += label\n",
    "        self.textprint.SetValue(self.equation)\n",
    "\n",
    "    def OnDel(self,event):\n",
    "        self.equation = self.equation[:-1]\n",
    "        self.textprint.SetValue(self.equation)\n",
    "\n",
    "    def OnAc(self,event):\n",
    "        self.textprint.Clear()\n",
    "        self.equation=\"\"\n",
    "        self.textprint.SetValue(self.equation)\n",
    "\n",
    "    def OnTarget(self,event):\n",
    "        string = self.equation\n",
    "        try:\n",
    "            target = eval(string) #eval会计算字符串形式的Python表达式,并返回结果的值\n",
    "            self.equation = str(target)\n",
    "            self.textprint.SetValue(self.equation)\n",
    "        except SyntaxError:\n",
    "            dlg = wx.MessageDialog(self,u'格式错误，请输入正确的等式!',wx.OK|wx.ICON_INFORMATION)#消息对话框\n",
    "            dlg.ShowModal()\n",
    "            dlg.Destroy()\n",
    "\n",
    "    def OnExit(self,event):\n",
    "        self.Close()\n",
    "\n",
    "if __name__ == '__main__':\n",
    "\n",
    "    app = wx.App()\n",
    "    CalcFrame(title='Calculator')\n",
    "    app.MainLoop()"
   ]
  },
  {
   "cell_type": "code",
   "execution_count": null,
   "metadata": {},
   "outputs": [],
   "source": []
  }
 ],
 "metadata": {
  "kernelspec": {
   "display_name": "Python 3",
   "language": "python",
   "name": "python3"
  },
  "language_info": {
   "codemirror_mode": {
    "name": "ipython",
    "version": 3
   },
   "file_extension": ".py",
   "mimetype": "text/x-python",
   "name": "python",
   "nbconvert_exporter": "python",
   "pygments_lexer": "ipython3",
   "version": "3.6.5"
  }
 },
 "nbformat": 4,
 "nbformat_minor": 2
}
