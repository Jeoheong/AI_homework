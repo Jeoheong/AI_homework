{
 "cells": [
  {
   "cell_type": "code",
   "execution_count": 1,
   "metadata": {},
   "outputs": [
    {
     "name": "stdout",
     "output_type": "stream",
     "text": [
      "['apple', 'pear', 'orange', 'pinapple', 'mandarin']\n",
      "i found it! it is in 1th position\n",
      "['apple', 'pear', 'orange', 'pinapple', 'mandarin', 'banana', 'kiwi']\n",
      "[5, 4, 6, 8, 8, 6, 4]\n"
     ]
    }
   ],
   "source": [
    "# prc1_4\n",
    "fruits = ['apple', 'pear', 'orange', 'pinapple', 'mandarin']\n",
    "print (fruits)\n",
    "\n",
    "for i in range(len(fruits)):\n",
    "    if fruits[i] == \"apple\":\n",
    "        print (\"i found it! it is in \"+str(i+1)+\"th position\")\n",
    "\n",
    "fruits.append('banana')\n",
    "fruits.append('kiwi')\n",
    "print (fruits)\n",
    "fruits_letters = []\n",
    "\n",
    "for i in range(len(fruits)):\n",
    "    fruits_letters.append(len(fruits[i]))\n",
    "\n",
    "print (fruits_letters)"
   ]
  },
  {
   "cell_type": "code",
   "execution_count": 2,
   "metadata": {},
   "outputs": [
    {
     "name": "stdout",
     "output_type": "stream",
     "text": [
      "[3, 5, 7, 9, 11, 13]\n",
      "[4.5, 12.5, 24.5, 40.5, 60.5, 84.5]\n"
     ]
    }
   ],
   "source": [
    "# prc5\n",
    "s = [3,5,7,9,11,13]\n",
    "def half_Squared(list):\n",
    "    for i,e in enumerate(list):\n",
    "        list[i] = (e**2)/2\n",
    "    return list\n",
    "print (s)\n",
    "print (half_Squared(s))"
   ]
  },
  {
   "cell_type": "code",
   "execution_count": 3,
   "metadata": {},
   "outputs": [
    {
     "name": "stdout",
     "output_type": "stream",
     "text": [
      "please input your score98\n",
      "congratulations! you are in grade A\n",
      "please input your score56\n",
      "it's a pity! you are in grade C\n",
      "please input your score77\n",
      "you are in grade B\n",
      "please input your score101\n",
      "invalid score!\n",
      "please input your score-3\n",
      "invalid score!\n",
      "[98.0, 56.0, 77.0, 101.0, -3.0]\n",
      "['A', 'C', 'B', 'null', 'null']\n"
     ]
    }
   ],
   "source": [
    "# prc6\n",
    "s = []\n",
    "g = []\n",
    "for i in range(5):\n",
    "    score = float(input(\"please input your score\"))\n",
    "    s.append(score)\n",
    "    if score < 0 or score > 100:\n",
    "        print (\"invalid score!\")\n",
    "        g.append(\"null\")\n",
    "    if score >= 90 and score <100:\n",
    "        print (\"congratulations! you are in grade A\")\n",
    "        g.append(\"A\")\n",
    "    if score <90 and score >= 60:\n",
    "        print (\"you are in grade B\")\n",
    "        g.append(\"B\")\n",
    "    if score < 60 and score >= 0:\n",
    "        print (\"it's a pity! you are in grade C\")\n",
    "        g.append(\"C\")\n",
    "\n",
    "print (s)\n",
    "print (g)"
   ]
  },
  {
   "cell_type": "code",
   "execution_count": null,
   "metadata": {},
   "outputs": [],
   "source": [
    "# prc7\n",
    "import random\n",
    "a = random.randint(1,50)\n",
    "b = random.randint(1,50)\n",
    "c = random.randint(1,50)\n",
    "print ((a,b,c))\n",
    "def sort(a,b,c):\n",
    "    if a > b:\n",
    "        if a > c:\n",
    "            if b > c:\n",
    "                return a,b,c\n",
    "            else:\n",
    "                return a,c,b\n",
    "        else:\n",
    "            return c,a,b\n",
    "    else:\n",
    "        if b > c:\n",
    "            if a > c:\n",
    "                return b,a,c\n",
    "            else:\n",
    "                return b,c,a\n",
    "        else:\n",
    "            return c,b,a\n",
    "\n",
    "print (sort(a,b,c))\n"
   ]
  },
  {
   "cell_type": "code",
   "execution_count": 5,
   "metadata": {},
   "outputs": [
    {
     "name": "stdout",
     "output_type": "stream",
     "text": [
      "1 2 3 4 5 6 "
     ]
    }
   ],
   "source": [
    "# prc8\n",
    "arrs=[[1,2,3],[4,5,6]]\n",
    "for i in range(len(arrs)):\n",
    "    for j in range(len(arrs[i])):\n",
    "        print (arrs[i][j],end=\" \")"
   ]
  },
  {
   "cell_type": "code",
   "execution_count": 6,
   "metadata": {},
   "outputs": [
    {
     "name": "stdout",
     "output_type": "stream",
     "text": [
      "1 None None None None None None 8 None None None None None None None None 17 18 None None None None None None None 26 27 None None None None None None None None None None None None None None None None None None None None None None None None None None None None None None None None None None None None None None None None None None None None None None None None None None None None None None None None None None None None None None None None None None None None None None None None None "
     ]
    }
   ],
   "source": [
    "# prc9\n",
    "num = []\n",
    "for i in range(1,101):\n",
    "    num.append(i)\n",
    "\n",
    "def special_Digit(x):\n",
    "    y = x**3\n",
    "    a = str(y)\n",
    "    b = 0\n",
    "    for i in range(len(a)):\n",
    "        b = b+int(a[i])\n",
    "    if x == b:\n",
    "        return x\n",
    "\n",
    "for i in map(special_Digit,num):\n",
    "    print (i,end=\" \")"
   ]
  },
  {
   "cell_type": "code",
   "execution_count": 7,
   "metadata": {},
   "outputs": [
    {
     "name": "stdout",
     "output_type": "stream",
     "text": [
      "(2, 8)\n",
      "(8, 2)\n"
     ]
    }
   ],
   "source": [
    "# prc10\n",
    "import random\n",
    "x = random.randint(1,10)\n",
    "y = random.randint(1,10)\n",
    "def exchange(x,y):\n",
    "    z = x\n",
    "    x = y\n",
    "    y = z\n",
    "    return x,y\n",
    "print ((x,y))\n",
    "print (exchange(x,y))"
   ]
  },
  {
   "cell_type": "code",
   "execution_count": 8,
   "metadata": {},
   "outputs": [
    {
     "name": "stdout",
     "output_type": "stream",
     "text": [
      "   *   \n",
      "  ***  \n",
      " ***** \n",
      "*******\n",
      " ***** \n",
      "  ***  \n",
      "   *   \n"
     ]
    }
   ],
   "source": [
    "# prc11\n",
    "n = 7\n",
    "m = int(n/2)\n",
    "for i in range(1,n+1):\n",
    "    if i <= m:\n",
    "        print (\" \"*(4-i)+\"*\"*(i-1)+\"*\"+\"*\"*(i-1)+\" \"*(4-i))\n",
    "    if i > m:\n",
    "        print (\" \"*(i-4)+\"*\"*(7-i)+\"*\"+\"*\"*(7-i)+\" \"*(i-4))"
   ]
  },
  {
   "cell_type": "code",
   "execution_count": 9,
   "metadata": {},
   "outputs": [
    {
     "name": "stdout",
     "output_type": "stream",
     "text": [
      "123456\n",
      "234561\n",
      "345612\n",
      "456123\n",
      "561234\n",
      "612345\n"
     ]
    }
   ],
   "source": [
    "# prc12\n",
    "for i in range(1,7):\n",
    "    for j in range(i,7):\n",
    "        print (j, end=\"\")\n",
    "    for k in range(1,i):\n",
    "        print (k, end=\"\")\n",
    "    print ()"
   ]
  },
  {
   "cell_type": "code",
   "execution_count": 10,
   "metadata": {},
   "outputs": [
    {
     "name": "stdout",
     "output_type": "stream",
     "text": [
      "Charles Martina Michael Florence Eli \n",
      "Martina Michael Florence Eli \n",
      "Michael Florence Eli \n",
      "Florence Eli \n",
      "Eli \n"
     ]
    }
   ],
   "source": [
    "# prc13\n",
    "players = ['charles','martina','michael','florence','eli']\n",
    "for i in range(5):\n",
    "        player = players[i:5]\n",
    "        for j in range(len(player)):\n",
    "                print (player[j].capitalize(),end=\" \")\n",
    "        print ()"
   ]
  },
  {
   "cell_type": "code",
   "execution_count": null,
   "metadata": {},
   "outputs": [],
   "source": []
  }
 ],
 "metadata": {
  "kernelspec": {
   "display_name": "Python 3",
   "language": "python",
   "name": "python3"
  },
  "language_info": {
   "codemirror_mode": {
    "name": "ipython",
    "version": 3
   },
   "file_extension": ".py",
   "mimetype": "text/x-python",
   "name": "python",
   "nbconvert_exporter": "python",
   "pygments_lexer": "ipython3",
   "version": "3.6.5"
  }
 },
 "nbformat": 4,
 "nbformat_minor": 1
}
